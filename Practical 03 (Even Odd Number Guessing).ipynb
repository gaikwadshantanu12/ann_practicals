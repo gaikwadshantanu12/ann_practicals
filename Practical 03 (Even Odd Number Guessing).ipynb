{
 "cells": [
  {
   "cell_type": "code",
   "execution_count": 1,
   "id": "50c72d93",
   "metadata": {},
   "outputs": [
    {
     "name": "stdout",
     "output_type": "stream",
     "text": [
      "0 is even\n",
      "1 is odd\n",
      "2 is odd\n",
      "\n",
      "Name : Shantanu Anant Gaikwad\n",
      "Roll No : 27\n"
     ]
    }
   ],
   "source": [
    "import numpy as np\n",
    "\n",
    "# Define the training data\n",
    "X = np.array([[0,0,1,1,0,1,1,1,1,1],  # 0\n",
    "              [0,0,0,1,0,0,1,0,0,1],  # 1\n",
    "              [0,1,1,1,1,1,1,1,1,1],  # 2\n",
    "              [0,1,1,1,1,0,1,1,1,1],  # 3\n",
    "              [0,1,0,1,0,0,1,0,0,1],  # 4\n",
    "              [0,1,1,0,1,0,1,1,1,1],  # 5\n",
    "              [0,1,1,0,1,1,1,1,1,1],  # 6\n",
    "              [0,0,1,1,0,0,1,0,0,1],  # 7\n",
    "              [0,1,1,1,1,1,1,1,1,1],  # 8\n",
    "              [0,1,1,1,1,0,1,1,1,1]]) # 9\n",
    "\n",
    "# Define the expected outputs for each input\n",
    "y = np.array([[1], [0], [1], [0], [1], [0], [0], [0], [1], [0]])\n",
    "\n",
    "# Define the activation function (step function)\n",
    "def activation(z):\n",
    "    return 1 if z >= 0 else 0\n",
    "\n",
    "# Define the perceptron function\n",
    "def perceptron(X, y, epochs=10, lr=0.1):\n",
    "    # Initialize weights and bias to random values\n",
    "    w = np.random.rand(X.shape[1])\n",
    "    b = np.random.rand(1)\n",
    "\n",
    "    for i in range(epochs):\n",
    "        # Iterate over each input and output pair\n",
    "        for j in range(X.shape[0]):\n",
    "            # Calculate the weighted sum of inputs and bias\n",
    "            z = np.dot(X[j], w) + b\n",
    "\n",
    "            # Apply the activation function\n",
    "            a = activation(z)\n",
    "\n",
    "            # Calculate the error\n",
    "            e = y[j] - a\n",
    "\n",
    "            # Update the weights and bias\n",
    "            w += lr * e * X[j]\n",
    "            b += lr * e\n",
    "\n",
    "    # Return the weights and bias\n",
    "    return w, b\n",
    "\n",
    "# Train the perceptron on the training data\n",
    "w, b = perceptron(X, y)\n",
    "\n",
    "# Test the perceptron on some inputs\n",
    "test_inputs = np.array([[0,0,0,0,0,1,1,1,1,1],  # 10\n",
    "                        [0,1,1,0,0,1,1,0,1,1],  # 73\n",
    "                        [0,0,1,0,0,1,1,0,1,1]]) # 52\n",
    "\n",
    "for i in range(test_inputs.shape[0]):\n",
    "    # Calculate the weighted sum of inputs and bias\n",
    "    z = np.dot(test_inputs[i], w) + b\n",
    "\n",
    "    # Apply the activation function\n",
    "    a = activation(z)\n",
    "\n",
    "    # Print the output\n",
    "    if a == 1:\n",
    "        print(\"{} is even\".format(i))\n",
    "    else:\n",
    "        print(\"{} is odd\".format(i))\n",
    "        \n",
    "print(\"\\nName : Shantanu Anant Gaikwad\\nRoll No : 27\")"
   ]
  },
  {
   "cell_type": "code",
   "execution_count": null,
   "id": "06e29864",
   "metadata": {},
   "outputs": [],
   "source": []
  }
 ],
 "metadata": {
  "kernelspec": {
   "display_name": "Python 3 (ipykernel)",
   "language": "python",
   "name": "python3"
  },
  "language_info": {
   "codemirror_mode": {
    "name": "ipython",
    "version": 3
   },
   "file_extension": ".py",
   "mimetype": "text/x-python",
   "name": "python",
   "nbconvert_exporter": "python",
   "pygments_lexer": "ipython3",
   "version": "3.8.5"
  }
 },
 "nbformat": 4,
 "nbformat_minor": 5
}
