{
 "cells": [
  {
   "cell_type": "code",
   "execution_count": 2,
   "id": "ef9e4aff",
   "metadata": {},
   "outputs": [],
   "source": [
    "import numpy as np"
   ]
  },
  {
   "cell_type": "code",
   "execution_count": 3,
   "id": "027dd1c7",
   "metadata": {},
   "outputs": [],
   "source": [
    "def mp_neuron(inputs, weights, threshold):\n",
    "    # Compute the dot product of the inputs and weights\n",
    "    net = np.dot(inputs, weights)\n",
    "    # Apply the threshold function\n",
    "    if net >= threshold:\n",
    "        output = 1\n",
    "    else:\n",
    "        output = 0\n",
    "    return output"
   ]
  },
  {
   "cell_type": "code",
   "execution_count": 4,
   "id": "c1ea5011",
   "metadata": {},
   "outputs": [],
   "source": [
    "def andnot_nn(inputs):\n",
    "    weights = [-2, 1]\n",
    "    threshold = 0\n",
    "    # Compute the outputs of the two neurons in the first layer\n",
    "    outputs = [mp_neuron(inputs, weights, threshold) for weights in [[-1, 1], [1, -1]]]\n",
    "    # Compute the final output of the ANDNOT function\n",
    "    if outputs[0] == 1 and outputs[1] == 0:\n",
    "        output = 1\n",
    "    else:\n",
    "        output = 0\n",
    "    return output"
   ]
  },
  {
   "cell_type": "code",
   "execution_count": 5,
   "id": "c46a346c",
   "metadata": {},
   "outputs": [
    {
     "name": "stdout",
     "output_type": "stream",
     "text": [
      "Inputs: [[0 0]\n",
      " [0 1]\n",
      " [1 0]\n",
      " [1 1]]\n",
      "Outputs: [0, 1, 0, 0]\n",
      "\n",
      "Name : Shantanu Anant Gaikwad\n",
      "Roll No : 27\n"
     ]
    }
   ],
   "source": [
    "inputs = np.array([[0, 0], [0, 1], [1, 0], [1, 1]])\n",
    "outputs = []\n",
    "for i in range(inputs.shape[0]):\n",
    "    y = andnot_nn(inputs[i].reshape(1, -1))\n",
    "    outputs.append(y)\n",
    "print(\"Inputs:\", inputs)\n",
    "print(\"Outputs:\", outputs)\n",
    "\n",
    "print(\"\\nName : Shantanu Anant Gaikwad\\nRoll No : 27\")"
   ]
  },
  {
   "cell_type": "code",
   "execution_count": null,
   "id": "7f06f1ce",
   "metadata": {},
   "outputs": [],
   "source": []
  }
 ],
 "metadata": {
  "kernelspec": {
   "display_name": "Python 3 (ipykernel)",
   "language": "python",
   "name": "python3"
  },
  "language_info": {
   "codemirror_mode": {
    "name": "ipython",
    "version": 3
   },
   "file_extension": ".py",
   "mimetype": "text/x-python",
   "name": "python",
   "nbconvert_exporter": "python",
   "pygments_lexer": "ipython3",
   "version": "3.8.5"
  }
 },
 "nbformat": 4,
 "nbformat_minor": 5
}
