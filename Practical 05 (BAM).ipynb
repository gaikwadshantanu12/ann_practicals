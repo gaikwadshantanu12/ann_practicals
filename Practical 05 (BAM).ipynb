{
 "cells": [
  {
   "cell_type": "code",
   "execution_count": 1,
   "id": "8b98e5db",
   "metadata": {},
   "outputs": [],
   "source": [
    "# Import Python Libraries\n",
    "import numpy as np"
   ]
  },
  {
   "cell_type": "code",
   "execution_count": 2,
   "id": "5326e02a",
   "metadata": {},
   "outputs": [],
   "source": [
    "#Take two sets of patterns:\n",
    "# Set A: Input Pattern\n",
    "x1 = np.array([1, 1, 1, 1, 1, 1]).reshape(6, 1)\n",
    "x2 = np.array([-1, -1, -1, -1, -1, -1]).reshape(6, 1)\n",
    "x3 = np.array([1, 1, -1, -1, 1, 1]).reshape(6, 1)\n",
    "x4 = np.array([-1, -1, 1, 1, -1, -1]).reshape(6, 1)"
   ]
  },
  {
   "cell_type": "code",
   "execution_count": 3,
   "id": "3e576bca",
   "metadata": {},
   "outputs": [
    {
     "name": "stdout",
     "output_type": "stream",
     "text": [
      "x1 : \n",
      "[[1]\n",
      " [1]\n",
      " [1]\n",
      " [1]\n",
      " [1]\n",
      " [1]]\n",
      "\n",
      "x2 : \n",
      "[[-1]\n",
      " [-1]\n",
      " [-1]\n",
      " [-1]\n",
      " [-1]\n",
      " [-1]]\n",
      "\n",
      "x3 : \n",
      "[[ 1]\n",
      " [ 1]\n",
      " [-1]\n",
      " [-1]\n",
      " [ 1]\n",
      " [ 1]]\n",
      "\n",
      "x4 : \n",
      "[[-1]\n",
      " [-1]\n",
      " [ 1]\n",
      " [ 1]\n",
      " [-1]\n",
      " [-1]]\n"
     ]
    }
   ],
   "source": [
    "print(f\"x1 : \\n{x1}\\n\\nx2 : \\n{x2}\\n\\nx3 : \\n{x3}\\n\\nx4 : \\n{x4}\")"
   ]
  },
  {
   "cell_type": "code",
   "execution_count": 4,
   "id": "e56b6377",
   "metadata": {},
   "outputs": [],
   "source": [
    "# Set B: Target Pattern\n",
    "y1 = np.array([1, 1, 1]).reshape(3, 1)\n",
    "y2 = np.array([-1, -1, -1]).reshape(3, 1)\n",
    "y3 = np.array([1, -1, 1]).reshape(3, 1)\n",
    "y4 = np.array([-1, 1, -1]).reshape(3, 1)"
   ]
  },
  {
   "cell_type": "code",
   "execution_count": 5,
   "id": "038bf7a9",
   "metadata": {},
   "outputs": [
    {
     "name": "stdout",
     "output_type": "stream",
     "text": [
      "y1 : \n",
      "[[1]\n",
      " [1]\n",
      " [1]]\n",
      "\n",
      "y2 : \n",
      "[[-1]\n",
      " [-1]\n",
      " [-1]]\n",
      "\n",
      "y3 : \n",
      "[[ 1]\n",
      " [-1]\n",
      " [ 1]]\n",
      "\n",
      "y4 : \n",
      "[[-1]\n",
      " [ 1]\n",
      " [-1]]\n"
     ]
    }
   ],
   "source": [
    "print(f\"y1 : \\n{y1}\\n\\ny2 : \\n{y2}\\n\\ny3 : \\n{y3}\\n\\ny4 : \\n{y4}\")"
   ]
  },
  {
   "cell_type": "code",
   "execution_count": 6,
   "id": "47c5b3b7",
   "metadata": {},
   "outputs": [
    {
     "name": "stdout",
     "output_type": "stream",
     "text": [
      "[[ 1 -1  1 -1]\n",
      " [ 1 -1  1 -1]\n",
      " [ 1 -1 -1  1]\n",
      " [ 1 -1 -1  1]\n",
      " [ 1 -1  1 -1]\n",
      " [ 1 -1  1 -1]]\n"
     ]
    }
   ],
   "source": [
    "# concatenate input pattern\n",
    "inputSet = np.concatenate((x1, x2, x3, x4), axis = 1)\n",
    "print(inputSet)"
   ]
  },
  {
   "cell_type": "code",
   "execution_count": 7,
   "id": "dbca31c5",
   "metadata": {},
   "outputs": [
    {
     "name": "stdout",
     "output_type": "stream",
     "text": [
      "[[ 1  1  1]\n",
      " [-1 -1 -1]\n",
      " [ 1 -1  1]\n",
      " [-1  1 -1]]\n"
     ]
    }
   ],
   "source": [
    "# concatenate target pattern\n",
    "targetSet = np.concatenate((y1.T, y2.T, y3.T, y4.T), axis = 0)\n",
    "print(targetSet)"
   ]
  },
  {
   "cell_type": "code",
   "execution_count": 8,
   "id": "8c4ce6d8",
   "metadata": {},
   "outputs": [
    {
     "name": "stdout",
     "output_type": "stream",
     "text": [
      "Weight matrix:\n",
      "[[4 0 4]\n",
      " [4 0 4]\n",
      " [0 4 0]\n",
      " [0 4 0]\n",
      " [4 0 4]\n",
      " [4 0 4]]\n"
     ]
    }
   ],
   "source": [
    "print(\"Weight matrix:\")\n",
    "weight = np.dot(inputSet, targetSet)\n",
    "print(weight)"
   ]
  },
  {
   "cell_type": "code",
   "execution_count": 9,
   "id": "f709387b",
   "metadata": {},
   "outputs": [],
   "source": [
    "def testInputs(x, weight):\n",
    "  # Multiply the input pattern with the weight matrix\n",
    "  y = np.dot(weight.T, x)\n",
    "  y[y < 0] = -1\n",
    "  y[y >= 0] = 1\n",
    "  return np.array(y)"
   ]
  },
  {
   "cell_type": "code",
   "execution_count": 10,
   "id": "5868ee33",
   "metadata": {},
   "outputs": [
    {
     "name": "stdout",
     "output_type": "stream",
     "text": [
      "\n",
      "Output of input pattern 1\n",
      "[[1]\n",
      " [1]\n",
      " [1]]\n",
      "\n",
      "Output of input pattern 2\n",
      "[[-1]\n",
      " [-1]\n",
      " [-1]]\n",
      "\n",
      "Output of input pattern 3\n",
      "[[ 1]\n",
      " [-1]\n",
      " [ 1]]\n",
      "\n",
      "Output of input pattern 4\n",
      "[[-1]\n",
      " [ 1]\n",
      " [-1]]\n"
     ]
    }
   ],
   "source": [
    "print(\"\\nOutput of input pattern 1\")\n",
    "print(testInputs(x1, weight))\n",
    "print(\"\\nOutput of input pattern 2\")\n",
    "print(testInputs(x2, weight))\n",
    "print(\"\\nOutput of input pattern 3\")\n",
    "print(testInputs(x3, weight))\n",
    "print(\"\\nOutput of input pattern 4\")\n",
    "print(testInputs(x4, weight))"
   ]
  },
  {
   "cell_type": "code",
   "execution_count": 11,
   "id": "823315a9",
   "metadata": {},
   "outputs": [
    {
     "name": "stdout",
     "output_type": "stream",
     "text": [
      "[[-16]\n",
      " [  8]\n",
      " [-16]]\n"
     ]
    }
   ],
   "source": [
    "y = np.dot(weight.T, x4)\n",
    "print(y)"
   ]
  },
  {
   "cell_type": "code",
   "execution_count": 12,
   "id": "f7e6632f",
   "metadata": {},
   "outputs": [
    {
     "name": "stdout",
     "output_type": "stream",
     "text": [
      "[-1 -1]\n"
     ]
    }
   ],
   "source": [
    "y[y < 0] = -1\n",
    "print(y[y < 0])"
   ]
  },
  {
   "cell_type": "code",
   "execution_count": 13,
   "id": "5ad46ecc",
   "metadata": {},
   "outputs": [
    {
     "name": "stdout",
     "output_type": "stream",
     "text": [
      "[[ True]\n",
      " [False]\n",
      " [ True]]\n"
     ]
    }
   ],
   "source": [
    "print(y < 0)"
   ]
  },
  {
   "cell_type": "code",
   "execution_count": 14,
   "id": "d3067272",
   "metadata": {},
   "outputs": [
    {
     "name": "stdout",
     "output_type": "stream",
     "text": [
      "[1]\n"
     ]
    }
   ],
   "source": [
    "y[y >= 0] = 1\n",
    "print(y[y >= 0])"
   ]
  },
  {
   "cell_type": "code",
   "execution_count": 15,
   "id": "67580b08",
   "metadata": {},
   "outputs": [
    {
     "name": "stdout",
     "output_type": "stream",
     "text": [
      "[[-1]\n",
      " [ 1]\n",
      " [-1]]\n"
     ]
    }
   ],
   "source": [
    "print(np.array(y))"
   ]
  },
  {
   "cell_type": "code",
   "execution_count": 16,
   "id": "e9fc37f2",
   "metadata": {},
   "outputs": [],
   "source": [
    "def testTargets(y, weight):\n",
    "  # Multiply the target pattern with the weight matrix\n",
    "  # (weight X y)\n",
    "  x = np.dot(weight, y)\n",
    "  x[x <= 0] = -1\n",
    "  x[x > 0] = 1\n",
    "  return np.array(x)"
   ]
  },
  {
   "cell_type": "code",
   "execution_count": 17,
   "id": "8eb5085a",
   "metadata": {},
   "outputs": [
    {
     "name": "stdout",
     "output_type": "stream",
     "text": [
      "Output of target pattern 1\n",
      "[[1]\n",
      " [1]\n",
      " [1]\n",
      " [1]\n",
      " [1]\n",
      " [1]]\n",
      "\n",
      "Output of target pattern 2\n",
      "[[-1]\n",
      " [-1]\n",
      " [-1]\n",
      " [-1]\n",
      " [-1]\n",
      " [-1]]\n",
      "\n",
      "Output of target pattern 3\n",
      "[[ 1]\n",
      " [ 1]\n",
      " [-1]\n",
      " [-1]\n",
      " [ 1]\n",
      " [ 1]]\n",
      "\n",
      "Output of target pattern 4\n",
      "[[-1]\n",
      " [-1]\n",
      " [ 1]\n",
      " [ 1]\n",
      " [-1]\n",
      " [-1]]\n",
      "\n",
      "Name : Shantanu Anant Gaikwad\n",
      "Roll No : 27\n"
     ]
    }
   ],
   "source": [
    "print(\"Output of target pattern 1\")\n",
    "print(testTargets(y1, weight))\n",
    "print(\"\\nOutput of target pattern 2\")\n",
    "print(testTargets(y2, weight))\n",
    "print(\"\\nOutput of target pattern 3\")\n",
    "print(testTargets(y3, weight))\n",
    "print(\"\\nOutput of target pattern 4\")\n",
    "print(testTargets(y4, weight))\n",
    "\n",
    "print(\"\\nName : Shantanu Anant Gaikwad\\nRoll No : 27\")"
   ]
  },
  {
   "cell_type": "code",
   "execution_count": null,
   "id": "19f29d08",
   "metadata": {},
   "outputs": [],
   "source": []
  },
  {
   "cell_type": "code",
   "execution_count": null,
   "id": "a2521685",
   "metadata": {},
   "outputs": [],
   "source": []
  }
 ],
 "metadata": {
  "kernelspec": {
   "display_name": "Python 3 (ipykernel)",
   "language": "python",
   "name": "python3"
  },
  "language_info": {
   "codemirror_mode": {
    "name": "ipython",
    "version": 3
   },
   "file_extension": ".py",
   "mimetype": "text/x-python",
   "name": "python",
   "nbconvert_exporter": "python",
   "pygments_lexer": "ipython3",
   "version": "3.8.5"
  }
 },
 "nbformat": 4,
 "nbformat_minor": 5
}
