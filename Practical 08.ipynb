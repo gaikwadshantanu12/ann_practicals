{
 "cells": [
  {
   "cell_type": "code",
   "execution_count": 6,
   "id": "454fa0bb",
   "metadata": {},
   "outputs": [],
   "source": [
    "import numpy as np\n",
    "class ARTNetwork:\n",
    "    def __init__(self, input_size, rho, alpha):\n",
    "         self.input_size = input_size\n",
    "         self.rho = rho\n",
    "         self.alpha = alpha\n",
    "         self.W = np.zeros(input_size)\n",
    "         self.V = np.ones(input_size)\n",
    " \n",
    "    def train(self, X):\n",
    "         for x in X:\n",
    "             y = x / (self.rho + np.linalg.norm(self.W))\n",
    "             j = np.argmax(y)\n",
    "             if y[j] >= self.alpha * np.sum(y) and self.V[j] > 0:\n",
    "                 self.W += self.V[j] * x\n",
    "                 self.V[j] *= 0.5\n",
    "             else:\n",
    "                 self.V[j] += 0.5\n",
    " \n",
    "    def classify(self, X):\n",
    "         classes = []\n",
    "         for x in X:\n",
    "             y = x / (self.rho + np.linalg.norm(self.W))\n",
    "             j = np.argmax(y)\n",
    "             classes.append(j)\n",
    "         return classes"
   ]
  },
  {
   "cell_type": "code",
   "execution_count": 8,
   "id": "6153d771",
   "metadata": {},
   "outputs": [
    {
     "name": "stdout",
     "output_type": "stream",
     "text": [
      "Test Data 1: Predicted Class: 1\n",
      "Test Data 2: Predicted Class: 0\n",
      "\n",
      "Name : Shantanu Anant Gaikwad\n",
      "Roll No : 27\n"
     ]
    }
   ],
   "source": [
    "X_train = np.array([[0, 1, 1, 0],\n",
    " [1, 0, 0, 1],\n",
    " [1, 0, 0, 0]])\n",
    "\n",
    "X_test = np.array([[0, 1, 0, 0],\n",
    " [1, 1, 1, 0]])\n",
    "\n",
    "input_size = X_train.shape[1]\n",
    "rho = 0.5\n",
    "alpha = 0.9\n",
    "art_network = ARTNetwork(input_size, rho, alpha)\n",
    "art_network.train(X_train)\n",
    "classes = art_network.classify(X_test)\n",
    "for i, data in enumerate(X_test):\n",
    "    print(f\"Test Data {i+1}: Predicted Class: {classes[i]}\")\n",
    "\n",
    "print(\"\\nName : Shantanu Anant Gaikwad\\nRoll No : 27\")"
   ]
  },
  {
   "cell_type": "code",
   "execution_count": null,
   "id": "cec9a601",
   "metadata": {},
   "outputs": [],
   "source": []
  }
 ],
 "metadata": {
  "kernelspec": {
   "display_name": "Python 3 (ipykernel)",
   "language": "python",
   "name": "python3"
  },
  "language_info": {
   "codemirror_mode": {
    "name": "ipython",
    "version": 3
   },
   "file_extension": ".py",
   "mimetype": "text/x-python",
   "name": "python",
   "nbconvert_exporter": "python",
   "pygments_lexer": "ipython3",
   "version": "3.8.5"
  }
 },
 "nbformat": 4,
 "nbformat_minor": 5
}
