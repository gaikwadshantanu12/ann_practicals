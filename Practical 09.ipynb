{
 "cells": [
  {
   "cell_type": "code",
   "execution_count": 1,
   "id": "7823dd44",
   "metadata": {},
   "outputs": [],
   "source": [
    "import numpy as np\n",
    "class NeuralNetwork:\n",
    "    def __init__(self, num_inputs, num_hidden, num_outputs):\n",
    "        self.num_inputs = num_inputs\n",
    "        self.num_hidden = num_hidden\n",
    "        self.num_outputs = num_outputs\n",
    "        self.weights1 = np.random.randn(self.num_inputs, self.num_hidden)\n",
    "        self.weights2 = np.random.randn(self.num_hidden, self.num_outputs)\n",
    " \n",
    "    def sigmoid(self, x):\n",
    "        return 1 / (1 + np.exp(-x))\n",
    "     \n",
    "    def sigmoid_derivative(self, x):\n",
    "        return x * (1 - x)\n",
    " \n",
    "    def feed_forward(self, inputs):\n",
    "        self.hidden_layer = self.sigmoid(np.dot(inputs, self.weights1))\n",
    "        self.output_layer = self.sigmoid(np.dot(self.hidden_layer, self.weights2))\n",
    "        return self.output_layer\n",
    "     \n",
    "    def back_propagation(self, inputs, targets, learning_rate):\n",
    "        output_error = targets - self.output_layer\n",
    "        output_delta = output_error * self.sigmoid_derivative(self.output_layer)\n",
    "        hidden_error = np.dot(output_delta, self.weights2.T)\n",
    "        hidden_delta = hidden_error * self.sigmoid_derivative(self.hidden_layer)\n",
    "        self.weights2 += learning_rate * np.dot(self.hidden_layer.T, output_delta)\n",
    "        self.weights1 += learning_rate * np.dot(inputs.T, hidden_delta)\n",
    "     \n",
    "    def train(self, inputs, targets, num_epochs, learning_rate):\n",
    "        for i in range(num_epochs):\n",
    "            self.feed_forward(inputs)\n",
    "            self.back_propagation(inputs, targets, learning_rate)"
   ]
  },
  {
   "cell_type": "code",
   "execution_count": 2,
   "id": "89b7312a",
   "metadata": {},
   "outputs": [
    {
     "name": "stdout",
     "output_type": "stream",
     "text": [
      "[0 0] [0.08933909]\n",
      "[0 1] [0.85128826]\n",
      "[1 0] [0.88013941]\n",
      "[1 1] [0.11744536]\n",
      "\n",
      "Name : Shantanu Anant Gaikwad\n",
      "Roll No : 27\n"
     ]
    }
   ],
   "source": [
    "# Create a neural network with 2 inputs, 3 hidden neurons, and 1 output\n",
    "nn = NeuralNetwork(2, 3, 1)\n",
    "\n",
    "# Train the neural network with some training data\n",
    "inputs = np.array([[0, 0], [0, 1], [1, 0], [1, 1]])\n",
    "targets = np.array([[0], [1], [1], [0]])\n",
    "nn.train(inputs, targets, num_epochs=10000, learning_rate=0.1)\n",
    "\n",
    "# Test the neural network on some new input data\n",
    "test_inputs = np.array([[0, 0], [0, 1], [1, 0], [1, 1]])\n",
    "for input_ in test_inputs:\n",
    "    print(input_, nn.feed_forward(input_))\n",
    "\n",
    "print(\"\\nName : Shantanu Anant Gaikwad\\nRoll No : 27\")"
   ]
  },
  {
   "cell_type": "code",
   "execution_count": null,
   "id": "ee3a21cf",
   "metadata": {},
   "outputs": [],
   "source": []
  }
 ],
 "metadata": {
  "kernelspec": {
   "display_name": "Python 3 (ipykernel)",
   "language": "python",
   "name": "python3"
  },
  "language_info": {
   "codemirror_mode": {
    "name": "ipython",
    "version": 3
   },
   "file_extension": ".py",
   "mimetype": "text/x-python",
   "name": "python",
   "nbconvert_exporter": "python",
   "pygments_lexer": "ipython3",
   "version": "3.8.5"
  }
 },
 "nbformat": 4,
 "nbformat_minor": 5
}
