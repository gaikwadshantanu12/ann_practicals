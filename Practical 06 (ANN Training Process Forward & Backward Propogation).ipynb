{
 "cells": [
  {
   "cell_type": "code",
   "execution_count": 1,
   "id": "85166b0b",
   "metadata": {},
   "outputs": [],
   "source": [
    "import numpy as np\n",
    "\n",
    "# Activation function (sigmoid)\n",
    "def sigmoid(x):\n",
    "    return 1 / (1 + np.exp(-x))\n",
    "\n",
    "# Derivative of sigmoid function\n",
    "def sigmoid_derivative(x):\n",
    "    return x * (1 - x)"
   ]
  },
  {
   "cell_type": "code",
   "execution_count": 2,
   "id": "e290053f",
   "metadata": {},
   "outputs": [],
   "source": [
    "# Define the ANN class\n",
    "class NeuralNetwork:\n",
    "    def __init__(self, layers):\n",
    "        self.layers = layers\n",
    "        self.weights = []\n",
    "        for i in range(1, len(layers)):\n",
    "            self.weights.append(np.random.randn(layers[i - 1], layers[i]))\n",
    "\n",
    "    def forward_propagation(self, X):\n",
    "        self.activations = [X]\n",
    "        self.z_values = []\n",
    "        for i in range(len(self.layers) - 1):\n",
    "            z = np.dot(self.activations[i], self.weights[i])\n",
    "            self.z_values.append(z)\n",
    "            activation = sigmoid(z)\n",
    "            self.activations.append(activation)\n",
    "        return self.activations[-1]\n",
    "\n",
    "    def backward_propagation(self, X, y, learning_rate):\n",
    "        output = self.forward_propagation(X)\n",
    "        error = y - output\n",
    "        delta = error * sigmoid_derivative(output)\n",
    "\n",
    "        for i in range(len(self.layers) - 2, -1, -1):\n",
    "            gradient = np.dot(self.activations[i].T, delta)\n",
    "            self.weights[i] += learning_rate * gradient\n",
    "\n",
    "            error = np.dot(delta, self.weights[i].T)\n",
    "            delta = error * sigmoid_derivative(self.activations[i])\n",
    "\n",
    "    def train(self, X, y, epochs, learning_rate):\n",
    "        for epoch in range(epochs):\n",
    "            self.backward_propagation(X, y, learning_rate)\n",
    "\n",
    "        return self.forward_propagation(X)"
   ]
  },
  {
   "cell_type": "code",
   "execution_count": 3,
   "id": "9020ef38",
   "metadata": {},
   "outputs": [],
   "source": [
    "# Testing the ANN\n",
    "X = np.array([[0, 0], [0, 1], [1, 0], [1, 1]])\n",
    "y = np.array([[0], [1], [1], [0]])\n",
    "\n",
    "# Define the network architecture\n",
    "layers = [2, 4, 1]\n",
    "\n",
    "# Create an instance of the NeuralNetwork class\n",
    "nn = NeuralNetwork(layers)\n",
    "\n",
    "# Train the network\n",
    "output = nn.train(X, y, epochs=10000, learning_rate=0.1)"
   ]
  },
  {
   "cell_type": "code",
   "execution_count": 4,
   "id": "57367f2f",
   "metadata": {},
   "outputs": [
    {
     "name": "stdout",
     "output_type": "stream",
     "text": [
      "Output after training:\n",
      "[[0.0852969 ]\n",
      " [0.92925721]\n",
      " [0.92972153]\n",
      " [0.05997309]]\n",
      "\n",
      "Name : Shantanu Anant Gaikwad\n",
      "Roll No : 27\n"
     ]
    }
   ],
   "source": [
    "# Print the output after training\n",
    "print(\"Output after training:\")\n",
    "print(output)\n",
    "\n",
    "print(\"\\nName : Shantanu Anant Gaikwad\\nRoll No : 27\")"
   ]
  },
  {
   "cell_type": "code",
   "execution_count": null,
   "id": "5be640a3",
   "metadata": {},
   "outputs": [],
   "source": []
  }
 ],
 "metadata": {
  "kernelspec": {
   "display_name": "Python 3 (ipykernel)",
   "language": "python",
   "name": "python3"
  },
  "language_info": {
   "codemirror_mode": {
    "name": "ipython",
    "version": 3
   },
   "file_extension": ".py",
   "mimetype": "text/x-python",
   "name": "python",
   "nbconvert_exporter": "python",
   "pygments_lexer": "ipython3",
   "version": "3.8.5"
  }
 },
 "nbformat": 4,
 "nbformat_minor": 5
}
