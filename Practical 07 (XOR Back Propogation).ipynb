{
 "cells": [
  {
   "cell_type": "code",
   "execution_count": 1,
   "id": "ce5ffcff",
   "metadata": {},
   "outputs": [],
   "source": [
    "import numpy as np \n",
    "#np.random.seed(0)\n",
    "\n",
    "def sigmoid (x):\n",
    "    return 1/(1 + np.exp(-x))\n",
    "\n",
    "def sigmoid_derivative(x):\n",
    "    return x * (1 - x)"
   ]
  },
  {
   "cell_type": "code",
   "execution_count": 2,
   "id": "016abb69",
   "metadata": {},
   "outputs": [
    {
     "name": "stdout",
     "output_type": "stream",
     "text": [
      "[[0 0]\n",
      " [0 1]\n",
      " [1 0]\n",
      " [1 1]] \n",
      "\n",
      " [[0]\n",
      " [1]\n",
      " [1]\n",
      " [0]]\n"
     ]
    }
   ],
   "source": [
    "#Input datasets\n",
    "inputs = np.array([[0,0],[0,1],[1,0],[1,1]])\n",
    "expected_output = np.array([[0],[1],[1],[0]])\n",
    "\n",
    "\n",
    "print(f\"{inputs} \\n\\n {expected_output}\")"
   ]
  },
  {
   "cell_type": "code",
   "execution_count": 3,
   "id": "0218d1a7",
   "metadata": {},
   "outputs": [],
   "source": [
    "epochs = 10000\n",
    "lr = 0.1\n",
    "inputLayerNeurons = 2\n",
    "hiddenLayerNeurons = 2\n",
    "outputLayerNeurons = 1"
   ]
  },
  {
   "cell_type": "code",
   "execution_count": 4,
   "id": "5f338398",
   "metadata": {},
   "outputs": [],
   "source": [
    "#Random weights and bias initialization\n",
    "hidden_weights = np.random.uniform(size=(inputLayerNeurons,hiddenLayerNeurons))\n",
    "hidden_bias =np.random.uniform(size=(1,hiddenLayerNeurons))\n",
    "output_weights = np.random.uniform(size=(hiddenLayerNeurons,outputLayerNeurons))\n",
    "output_bias = np.random.uniform(size=(1,outputLayerNeurons))"
   ]
  },
  {
   "cell_type": "code",
   "execution_count": 5,
   "id": "2b7d7691",
   "metadata": {},
   "outputs": [
    {
     "name": "stdout",
     "output_type": "stream",
     "text": [
      "Initial hidden weights: [0.84675376 0.48268173] [0.16123875 0.60112565]\n",
      "Initial hidden biases: [0.55827622 0.83220216]\n",
      "Initial output weights: [0.72646513] [0.02890909]\n",
      "Initial output biases: [0.11996964]\n"
     ]
    }
   ],
   "source": [
    "print(\"Initial hidden weights: \",end='')\n",
    "print(*hidden_weights)\n",
    "print(\"Initial hidden biases: \",end='')\n",
    "print(*hidden_bias)\n",
    "print(\"Initial output weights: \",end='')\n",
    "print(*output_weights)\n",
    "print(\"Initial output biases: \",end='')\n",
    "print(*output_bias)"
   ]
  },
  {
   "cell_type": "code",
   "execution_count": 6,
   "id": "6edac243",
   "metadata": {},
   "outputs": [],
   "source": [
    "#Training algorithm\n",
    "for _ in range(epochs):\n",
    "\t#Forward Propagation\n",
    "\thidden_layer_activation = np.dot(inputs,hidden_weights)\n",
    "\thidden_layer_activation += hidden_bias\n",
    "\thidden_layer_output = sigmoid(hidden_layer_activation)\n",
    "\n",
    "\toutput_layer_activation = np.dot(hidden_layer_output,output_weights)\n",
    "\toutput_layer_activation += output_bias\n",
    "\tpredicted_output = sigmoid(output_layer_activation)\n",
    "\n",
    "\t#Backpropagation\n",
    "\terror = expected_output - predicted_output\n",
    "\td_predicted_output = error * sigmoid_derivative(predicted_output)\n",
    "\t\n",
    "\terror_hidden_layer = d_predicted_output.dot(output_weights.T)\n",
    "\td_hidden_layer = error_hidden_layer * sigmoid_derivative(hidden_layer_output)\n",
    "\n",
    "\t#Updating Weights and Biases\n",
    "\toutput_weights += hidden_layer_output.T.dot(d_predicted_output) * lr\n",
    "\toutput_bias += np.sum(d_predicted_output,axis=0,keepdims=True) * lr\n",
    "\thidden_weights += inputs.T.dot(d_hidden_layer) * lr\n",
    "\thidden_bias += np.sum(d_hidden_layer,axis=0,keepdims=True) * lr"
   ]
  },
  {
   "cell_type": "code",
   "execution_count": 7,
   "id": "344eb262",
   "metadata": {},
   "outputs": [
    {
     "name": "stdout",
     "output_type": "stream",
     "text": [
      "Final hidden weights: [5.84181822 3.65663881] [5.87477964 3.66287426]\n",
      "Final hidden bias: [-2.44063677 -5.60119718]\n",
      "Final output weights: [7.48639401] [-8.15667973]\n",
      "Final output bias: [-3.35507009]\n"
     ]
    }
   ],
   "source": [
    "print(\"Final hidden weights: \",end='')\n",
    "print(*hidden_weights)\n",
    "print(\"Final hidden bias: \",end='')\n",
    "print(*hidden_bias)\n",
    "print(\"Final output weights: \",end='')\n",
    "print(*output_weights)\n",
    "print(\"Final output bias: \",end='')\n",
    "print(*output_bias)"
   ]
  },
  {
   "cell_type": "code",
   "execution_count": 8,
   "id": "926a9057",
   "metadata": {},
   "outputs": [
    {
     "name": "stdout",
     "output_type": "stream",
     "text": [
      "\n",
      "Output from neural network after 10,000 epochs: [0.05813304] [0.94639029] [0.94628851] [0.05811808]\n",
      "\n",
      "Name : Shantanu Anant Gaikwad\n",
      "Roll No : 27\n"
     ]
    }
   ],
   "source": [
    "print(\"\\nOutput from neural network after 10,000 epochs: \",end='')\n",
    "print(*predicted_output)\n",
    "\n",
    "print(\"\\nName : Shantanu Anant Gaikwad\\nRoll No : 27\")"
   ]
  },
  {
   "cell_type": "code",
   "execution_count": null,
   "id": "29992036",
   "metadata": {},
   "outputs": [],
   "source": []
  }
 ],
 "metadata": {
  "kernelspec": {
   "display_name": "Python 3 (ipykernel)",
   "language": "python",
   "name": "python3"
  },
  "language_info": {
   "codemirror_mode": {
    "name": "ipython",
    "version": 3
   },
   "file_extension": ".py",
   "mimetype": "text/x-python",
   "name": "python",
   "nbconvert_exporter": "python",
   "pygments_lexer": "ipython3",
   "version": "3.8.5"
  }
 },
 "nbformat": 4,
 "nbformat_minor": 5
}
