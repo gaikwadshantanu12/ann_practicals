{
 "cells": [
  {
   "cell_type": "code",
   "execution_count": 2,
   "id": "03cc050f",
   "metadata": {},
   "outputs": [
    {
     "name": "stdout",
     "output_type": "stream",
     "text": [
      "Epoch 1/10\n",
      "1563/1563 [==============================] - 58s 35ms/step - loss: 1.4924 - accuracy: 0.4557 - val_loss: 1.2378 - val_accuracy: 0.5625\n",
      "Epoch 2/10\n",
      "1563/1563 [==============================] - 56s 36ms/step - loss: 1.1480 - accuracy: 0.5962 - val_loss: 1.1180 - val_accuracy: 0.6050\n",
      "Epoch 3/10\n",
      "1563/1563 [==============================] - 54s 35ms/step - loss: 0.9957 - accuracy: 0.6523 - val_loss: 0.9450 - val_accuracy: 0.6694\n",
      "Epoch 4/10\n",
      "1563/1563 [==============================] - 53s 34ms/step - loss: 0.8963 - accuracy: 0.6851 - val_loss: 0.9282 - val_accuracy: 0.6754\n",
      "Epoch 5/10\n",
      "1563/1563 [==============================] - 51s 33ms/step - loss: 0.8231 - accuracy: 0.7118 - val_loss: 0.8914 - val_accuracy: 0.6861\n",
      "Epoch 6/10\n",
      "1563/1563 [==============================] - 50s 32ms/step - loss: 0.7581 - accuracy: 0.7340 - val_loss: 0.8793 - val_accuracy: 0.6930\n",
      "Epoch 7/10\n",
      "1563/1563 [==============================] - 51s 32ms/step - loss: 0.7056 - accuracy: 0.7528 - val_loss: 0.8594 - val_accuracy: 0.7040\n",
      "Epoch 8/10\n",
      "1563/1563 [==============================] - 57s 36ms/step - loss: 0.6595 - accuracy: 0.7693 - val_loss: 0.8426 - val_accuracy: 0.7118\n",
      "Epoch 9/10\n",
      "1563/1563 [==============================] - 61s 39ms/step - loss: 0.6117 - accuracy: 0.7846 - val_loss: 0.8852 - val_accuracy: 0.7074\n",
      "Epoch 10/10\n",
      "1563/1563 [==============================] - 60s 39ms/step - loss: 0.5687 - accuracy: 0.7998 - val_loss: 0.8852 - val_accuracy: 0.7077\n",
      "313/313 - 3s - loss: 0.8852 - accuracy: 0.7077 - 3s/epoch - 8ms/step\n",
      "Test accuracy: 0.7077000141143799\n",
      "\n",
      "Name : Shantanu Anant Gaikwad\n",
      "Roll No : 27\n"
     ]
    }
   ],
   "source": [
    "import tensorflow as tf\n",
    "from tensorflow.keras import datasets, layers, models\n",
    "\n",
    "# Load and preprocess the dataset\n",
    "(train_images, train_labels), (test_images, test_labels) = datasets.cifar10.load_data()\n",
    "train_images, test_images = train_images / 255.0, test_images / 255.0\n",
    "\n",
    "# Create the CNN model\n",
    "model = models.Sequential()\n",
    "model.add(layers.Conv2D(32, (3, 3), activation='relu', input_shape=(32, 32, 3)))\n",
    "model.add(layers.MaxPooling2D((2, 2)))\n",
    "model.add(layers.Conv2D(64, (3, 3), activation='relu'))\n",
    "model.add(layers.MaxPooling2D((2, 2)))\n",
    "model.add(layers.Conv2D(64, (3, 3), activation='relu'))\n",
    "\n",
    "# Add dense layers on top\n",
    "model.add(layers.Flatten())\n",
    "model.add(layers.Dense(64, activation='relu'))\n",
    "model.add(layers.Dense(10))\n",
    "\n",
    "# Compile and train the model\n",
    "model.compile(optimizer='adam',\n",
    "              loss=tf.keras.losses.SparseCategoricalCrossentropy(from_logits=True),\n",
    "              metrics=['accuracy'])\n",
    "model.fit(train_images, train_labels, epochs=10, validation_data=(test_images, test_labels))\n",
    "\n",
    "# Evaluate the model\n",
    "test_loss, test_acc = model.evaluate(test_images,  test_labels, verbose=2)\n",
    "print(f'Test accuracy: {test_acc}')\n",
    "print(\"\\nName : Shantanu Anant Gaikwad\\nRoll No : 27\")"
   ]
  },
  {
   "cell_type": "code",
   "execution_count": null,
   "id": "5e7dfa26",
   "metadata": {},
   "outputs": [],
   "source": []
  }
 ],
 "metadata": {
  "kernelspec": {
   "display_name": "Python 3 (ipykernel)",
   "language": "python",
   "name": "python3"
  },
  "language_info": {
   "codemirror_mode": {
    "name": "ipython",
    "version": 3
   },
   "file_extension": ".py",
   "mimetype": "text/x-python",
   "name": "python",
   "nbconvert_exporter": "python",
   "pygments_lexer": "ipython3",
   "version": "3.8.5"
  }
 },
 "nbformat": 4,
 "nbformat_minor": 5
}
